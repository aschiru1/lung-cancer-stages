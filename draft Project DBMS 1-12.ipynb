{
 "cells": [
  {
   "cell_type": "code",
   "execution_count": 1,
   "id": "5389e3a5-c619-44a6-b835-40aa07511853",
   "metadata": {},
   "outputs": [
    {
     "name": "stdout",
     "output_type": "stream",
     "text": [
      "Defaulting to user installation because normal site-packages is not writeable\n",
      "Requirement already satisfied: mysql-connector-python in ./.local/lib/python3.10/site-packages (9.0.0)\n",
      "\n",
      "\u001B[1m[\u001B[0m\u001B[34;49mnotice\u001B[0m\u001B[1;39;49m]\u001B[0m\u001B[39;49m A new release of pip is available: \u001B[0m\u001B[31;49m23.2.1\u001B[0m\u001B[39;49m -> \u001B[0m\u001B[32;49m24.3.1\u001B[0m\n",
      "\u001B[1m[\u001B[0m\u001B[34;49mnotice\u001B[0m\u001B[1;39;49m]\u001B[0m\u001B[39;49m To update, run: \u001B[0m\u001B[32;49mpython3 -m pip install --upgrade pip\u001B[0m\n"
     ]
    }
   ],
   "source": [
    "!pip install mysql-connector-python"
   ]
  },
  {
   "cell_type": "code",
   "execution_count": 3,
   "id": "045216f8-881a-412e-b607-7c622e702c33",
   "metadata": {},
   "outputs": [],
   "source": [
    "#import package, if it does not work, restart the console and re-run this command.\n",
    "import mysql.connector"
   ]
  },
  {
   "cell_type": "code",
   "execution_count": 4,
   "id": "71b06b63-514c-4209-8c53-035088ecd7ea",
   "metadata": {},
   "outputs": [],
   "source": [
    "#input the credentials\n",
    "connection = mysql.connector.connect(\n",
    "    host=\"127.0.0.1\",  # Hostname\n",
    "    user=\"aschiru\",   # Username\n",
    "    password=\"mollusc influenza bright\",  # Password\n",
    "    database=\" aschiru_db\"  # Database name\n",
    ")\n",
    "\n",
    "cursor = connection.cursor()"
   ]
  },
  {
   "cell_type": "code",
   "execution_count": 5,
   "id": "18eb0b87-98c1-4d66-9a06-b28e7efc9cab",
   "metadata": {},
   "outputs": [],
   "source": [
    "#create Patients table\n",
    "cursor.execute(\"\"\"\n",
    "CREATE TABLE IF NOT EXISTS Patients (\n",
    "    patient_id INT PRIMARY KEY,\n",
    "    age INT NOT NULL,\n",
    "    gender BOOLEAN NOT NULL\n",
    ")\n",
    "\"\"\")"
   ]
  },
  {
   "cell_type": "code",
   "execution_count": 10,
   "id": "c3da6dcf-7f79-4af4-87f2-facbc59b51fd",
   "metadata": {},
   "outputs": [],
   "source": [
    "#Create Medical History table\n",
    "cursor.execute(\"\"\"\n",
    "CREATE TABLE IF NOT EXISTS MedicalHistory (\n",
    "    history_id INT PRIMARY KEY,\n",
    "    patient_id INT,\n",
    "    chronic_lung_disease TINYINT CHECK (chronic_lung_disease BETWEEN 1 AND 7),\n",
    "    frequent_cold TINYINT CHECK (frequent_cold BETWEEN 1 AND 7),\n",
    "    dry_cough TINYINT CHECK (dry_cough BETWEEN 1 AND 7),\n",
    "    snoring TINYINT CHECK (snoring BETWEEN 1 AND 7),\n",
    "    FOREIGN KEY (patient_id) REFERENCES Patients(patient_id)\n",
    ")\n",
    "\"\"\")\n"
   ]
  },
  {
   "cell_type": "code",
   "execution_count": 18,
   "id": "65f54592-f5f4-46cb-9783-f0304c679e9c",
   "metadata": {},
   "outputs": [],
   "source": [
    "# Create Diagnosis table\n",
    "cursor.execute(\"\"\"\n",
    "CREATE TABLE IF NOT EXISTS Diagnosis (\n",
    "    diagnosis_id INT PRIMARY KEY,\n",
    "    patient_id INT,\n",
    "    risk_level ENUM('Low', 'Medium', 'High'),\n",
    "    FOREIGN KEY (patient_id) REFERENCES Patients(patient_id)\n",
    ")\n",
    "\"\"\")\n"
   ]
  },
  {
   "cell_type": "code",
   "execution_count": 19,
   "id": "3a84cbe9-badc-49d3-a77e-e743d45d0c9f",
   "metadata": {},
   "outputs": [],
   "source": [
    "#Create Lifestyle_risks table\n",
    "cursor.execute(\"\"\"\n",
    "CREATE TABLE IF NOT EXISTS Lifestyle_Risks (\n",
    "    risk_id INT PRIMARY KEY,\n",
    "    diagnosis_id INT,\n",
    "    patient_id INT,\n",
    "    air_pollution TINYINT CHECK (air_pollution BETWEEN 1 AND 8),\n",
    "    alcohol_use TINYINT CHECK (alcohol_use BETWEEN 1 AND 8),\n",
    "    dust_allergy TINYINT CHECK (dust_allergy BETWEEN 1 AND 8),\n",
    "    occupational_hazards TINYINT CHECK (occupational_hazards BETWEEN 1 AND 8),\n",
    "    genetic_risk TINYINT CHECK (genetic_risk BETWEEN 1 AND 7),\n",
    "    balanced_diet TINYINT CHECK (balanced_diet BETWEEN 1 AND 7),\n",
    "    obesity TINYINT CHECK (obesity BETWEEN 1 AND 7),\n",
    "    smoking TINYINT CHECK (smoking BETWEEN 1 AND 8),\n",
    "    passive_smoker TINYINT CHECK (passive_smoker BETWEEN 1 AND 8),\n",
    "    FOREIGN KEY (diagnosis_id) REFERENCES Diagnosis(diagnosis_id) ON DELETE CASCADE,\n",
    "    FOREIGN KEY (patient_id) REFERENCES Patients(patient_id) ON DELETE CASCADE\n",
    ")\n",
    "\"\"\")"
   ]
  },
  {
   "cell_type": "code",
   "execution_count": 20,
   "id": "8e590aed-8baa-4fd4-a606-ed7de24cef84",
   "metadata": {},
   "outputs": [],
   "source": [
    "#Create Symptoms Table\n",
    "cursor.execute(\"\"\"\n",
    "CREATE TABLE Symptoms (\n",
    "    symptom_id INT PRIMARY KEY,\n",
    "    patient_id INT,\n",
    "    chest_pain BOOLEAN,\n",
    "    coughing_of_blood BOOLEAN,\n",
    "    fatigue TINYINT CHECK (fatigue BETWEEN 1 AND 9),\n",
    "    weight_loss TINYINT CHECK (weight_loss BETWEEN 1 AND 8),\n",
    "    shortness_of_breath TINYINT CHECK (shortness_of_breath BETWEEN 1 AND 9),\n",
    "    wheezing TINYINT CHECK (wheezing BETWEEN 1 AND 8),\n",
    "    swallowing_difficulty TINYINT CHECK (swallowing_difficulty BETWEEN 1 AND 8),\n",
    "    clubbing_of_finger_nails TINYINT CHECK (clubbing_of_finger_nails BETWEEN 1 AND 9),\n",
    "    FOREIGN KEY (patient_id) REFERENCES Patients(patient_id)\n",
    ")\n",
    "\"\"\")"
   ]
  },
  {
   "cell_type": "code",
   "execution_count": 5,
   "id": "493bd7ef-e46c-47fe-9cff-f94a145118c5",
   "metadata": {},
   "outputs": [],
   "source": [
    "#populate data to Patients table, \n",
    "import csv\n",
    "# Open the Patients.csv file and populate data into the Patients table\n",
    "with open('Patients.csv', 'r') as f:\n",
    "    csv_reader = csv.reader(f)\n",
    "    next(csv_reader, None)  # Skip the header row if it exists\n",
    "\n",
    "    for row in csv_reader:\n",
    "        cursor.execute(\n",
    "            \"INSERT INTO Patients (patient_id, age, gender) VALUES (%s, %s, %s)\", \n",
    "            (row[0], row[1], row[2])\n",
    "        )\n",
    "\n",
    "# Commit changes and close the connection\n",
    "connection.commit()"
   ]
  },
  {
   "cell_type": "code",
   "execution_count": 7,
   "id": "f5c54dc3-d629-40ec-8a13-3f81eb95eb54",
   "metadata": {},
   "outputs": [],
   "source": [
    "# Open the MedicalHistory.csv file and populate data into the MedicalHistory table\n",
    "import csv\n",
    "with open('medical History.csv', 'r') as f:\n",
    "    csv_reader = csv.reader(f)\n",
    "    next(csv_reader, None)  # Skip the header row if it exists\n",
    "\n",
    "    for row in csv_reader:\n",
    "        cursor.execute(\n",
    "            \"INSERT INTO MedicalHistory (history_id,patient_id,chronic_lung_disease, frequent_cold, dry_cough, snoring) VALUES (%s, %s, %s,%s,%s,%s)\", \n",
    "            (row[0], row[1], row[2], row[3], row[4], row[5])\n",
    "        )\n",
    "\n",
    "# Commit changes and close the connection\n",
    "connection.commit()"
   ]
  },
  {
   "cell_type": "code",
   "execution_count": 8,
   "id": "706224cc-b5f3-4a02-a3ef-28894fd8bf1d",
   "metadata": {},
   "outputs": [],
   "source": [
    "# Open the diagnosis.csv file and populate data into the MedicalHistory table\n",
    "import csv\n",
    "with open('diagnosis.csv', 'r') as f:\n",
    "    csv_reader = csv.reader(f)\n",
    "    next(csv_reader, None)  # Skip the header row if it exists\n",
    "\n",
    "    for row in csv_reader:\n",
    "        cursor.execute(\n",
    "            \"INSERT INTO Diagnosis (diagnosis_id,patient_id,risk_level) VALUES (%s, %s, %s)\", \n",
    "            (row[0], row[1], row[2])\n",
    "        )\n",
    "\n",
    "# Commit changes and close the connection\n",
    "connection.commit()"
   ]
  },
  {
   "cell_type": "code",
   "execution_count": 11,
   "id": "257d8676-cd54-44f7-beae-c75b5ddaf0f5",
   "metadata": {},
   "outputs": [],
   "source": [
    "cursor.execute(\"\"\" \n",
    "ALTER TABLE Symptoms \n",
    "MODIFY COLUMN chest_pain TINYINT CHECK (chest_pain BETWEEN 1 AND 9),\n",
    "MODIFY COLUMN coughing_of_blood TINYINT CHECK (coughing_of_blood BETWEEN 1 AND 9)\n",
    "\"\"\")"
   ]
  },
  {
   "cell_type": "code",
   "execution_count": 14,
   "id": "c8f85130-0c3c-4edf-b887-1d363e3c2833",
   "metadata": {},
   "outputs": [],
   "source": [
    "#Open the Symptoms.csv file and populate data into the MedicalHistory table\n",
    "with open('Symptoms.csv', 'r') as f:\n",
    "    csv_reader = csv.reader(f)\n",
    "    next(csv_reader, None)  # Skip the header row if it exists\n",
    "\n",
    "    for row in csv_reader:\n",
    "        cursor.execute(\n",
    "            \"INSERT INTO Symptoms (symptom_id,patient_id,chest_pain,coughing_of_blood,fatigue,weight_loss,shortness_of_breath,wheezing,swallowing_difficulty,clubbing_of_finger_nails) VALUES (%s,%s,%s,%s,%s,%s,%s,%s,%s,%s)\", \n",
    "            (row[0], row[1], row[2], row[3], row[4], row[5],row[6],row[7],row[8],row[9])\n",
    "        )\n",
    "\n",
    "# Commit changes and close the connection\n",
    "connection.commit()"
   ]
  },
  {
   "cell_type": "code",
   "execution_count": null,
   "id": "a107f084-0779-4d64-9e01-ee954c90bed9",
   "metadata": {},
   "outputs": [],
   "source": [
    "#Open the Symptoms.csv file and populate data into the MedicalHistory table\n",
    "with open('Symptoms.csv', 'r') as f:\n",
    "    csv_reader = csv.reader(f)\n",
    "    next(csv_reader, None)  # Skip the header row if it exists\n",
    "\n",
    "    for row in csv_reader:\n",
    "        cursor.execute(\n",
    "            \"INSERT INTO Symptoms (symptom_id,patient_id,chest_pain,coughing_of_blood,fatigue,weight_loss,shortness_of_breath,wheezing,swallowing_difficulty,clubbing_of_finger_nails) VALUES (%s,%s,%s,%s,%s,%s,%s,%s,%s,%s)\", \n",
    "            (row[0], row[1], row[2], row[3], row[4], row[5],row[6],row[7],row[8],row[9])\n",
    "        )\n",
    "\n",
    "# Commit changes and close the connection\n",
    "connection.commit()"
   ]
  },
  {
   "cell_type": "code",
   "execution_count": 18,
   "id": "88158784-9289-46ef-a1dd-d40988c4d5ed",
   "metadata": {},
   "outputs": [],
   "source": [
    "#Open the Lifestyle risks.csv file and populate data into the MedicalHistory table\n",
    "with open('lifestyle risks.csv', 'r') as f:\n",
    "    csv_reader = csv.reader(f)\n",
    "    next(csv_reader, None)  # Skip the header row if it exists\n",
    "\n",
    "    for row in csv_reader:\n",
    "        cursor.execute(\n",
    "            \"INSERT INTO Lifestyle_Risks (risk_id,diagnosis_id,patient_id,air_pollution,alcohol_use,dust_allergy,occupational_hazards,genetic_risk,balanced_diet,obesity,smoking,passive_smoker) VALUES (%s,%s,%s,%s,%s,%s,%s,%s,%s,%s,%s,%s)\", \n",
    "            (row[0], row[1], row[2], row[3], row[4], row[5],row[6],row[7],row[8],row[9],row[10],row[11])\n",
    "        )\n",
    "\n",
    "# Commit changes and close the connection\n",
    "connection.commit()"
   ]
  },
  {
   "cell_type": "code",
   "execution_count": 8,
   "id": "e8aa15e2-0f9a-4bdb-97e4-82ede0779223",
   "metadata": {},
   "outputs": [
    {
     "name": "stdout",
     "output_type": "stream",
     "text": [
      "    chronic_lung_disease risk_level  patient_count\n",
      "0                      1        Low             50\n",
      "1                      2        Low             82\n",
      "2                      2     Medium             91\n",
      "3                      3        Low             81\n",
      "4                      3     Medium             60\n",
      "5                      4        Low             20\n",
      "6                      4     Medium             51\n",
      "7                      4       High             70\n",
      "8                      5        Low             40\n",
      "9                      5     Medium             30\n",
      "10                     5       High             10\n",
      "11                     6        Low             10\n",
      "12                     6     Medium            100\n",
      "13                     6       High            198\n",
      "14                     7        Low             20\n",
      "15                     7       High             87\n"
     ]
    }
   ],
   "source": [
    "# Complex queries\n",
    "#1.\n",
    "import pandas as pd\n",
    "\n",
    "try:\n",
    "    cursor.fetchall()  # Ensure all previous results are fetched\n",
    "except:\n",
    "    pass  # If no unread results, proceed\n",
    "\n",
    "#Aalyzing chronic lung disease and risk levels\n",
    "cursor.execute(\"\"\"\n",
    "SELECT \n",
    "    mh.chronic_lung_disease,\n",
    "    d.risk_level,\n",
    "    COUNT(*) AS patient_count\n",
    "FROM \n",
    "    MedicalHistory mh\n",
    "JOIN \n",
    "    Diagnosis d ON mh.patient_id = d.patient_id\n",
    "GROUP BY \n",
    "    mh.chronic_lung_disease, d.risk_level\n",
    "ORDER BY \n",
    "    mh.chronic_lung_disease, d.risk_level;\n",
    "\"\"\")\n",
    "\n",
    "# Fetch the results\n",
    "results = cursor.fetchall()\n",
    "\n",
    "# Get column names from cursor description\n",
    "columns = [desc[0] for desc in cursor.description]\n",
    "\n",
    "# Create a DataFrame\n",
    "df = pd.DataFrame(results, columns=columns)\n",
    "\n",
    "# Display the DataFrame (adjust depending on the environment)\n",
    "print(df)\n"
   ]
  },
  {
   "cell_type": "code",
   "execution_count": 9,
   "id": "0cd224d6-36fa-4ef0-a850-7b5a613eebdb",
   "metadata": {},
   "outputs": [
    {
     "name": "stdout",
     "output_type": "stream",
     "text": [
      "    passive_smoker risk_level average_age  patient_count\n",
      "0                8       High     39.1481            108\n",
      "1                7       High     35.5294            187\n",
      "2                6        Low     44.0000             10\n",
      "3                6     Medium     37.0000             20\n",
      "4                5        Low     43.0000             20\n",
      "5                5     Medium     73.0000             10\n",
      "6                4        Low     30.9508             61\n",
      "7                4     Medium     33.8000            100\n",
      "8                3        Low     32.6667             30\n",
      "9                3     Medium     33.7250             40\n",
      "10               3       High     39.2857             70\n",
      "11               2        Low     37.7213            122\n",
      "12               2     Medium     40.8827            162\n",
      "13               1        Low     32.6667             60\n"
     ]
    }
   ],
   "source": [
    "#2.Evaluate the Contribution of Passive Smoking to Lung Cancer Risk\n",
    "cursor.execute(\"\"\"\n",
    "SELECT \n",
    "    lr.passive_smoker,\n",
    "    d.risk_level,\n",
    "    AVG(p.age) AS average_age,\n",
    "    COUNT(*) AS patient_count\n",
    "FROM \n",
    "    Lifestyle_Risks lr\n",
    "JOIN \n",
    "    Diagnosis d ON lr.patient_id = d.patient_id\n",
    "JOIN \n",
    "    Patients p ON lr.patient_id = p.patient_id\n",
    "GROUP BY \n",
    "    lr.passive_smoker, d.risk_level\n",
    "ORDER BY \n",
    "    lr.passive_smoker DESC, d.risk_level;\n",
    "\"\"\")\n",
    "# Fetch the results\n",
    "results = cursor.fetchall()\n",
    "\n",
    "# Get the column names\n",
    "columns = [desc[0] for desc in cursor.description]\n",
    "\n",
    "# Create a Pandas DataFrame from the results\n",
    "df = pd.DataFrame(results, columns=columns)\n",
    "\n",
    "# Display the DataFrame\n",
    "print(df)"
   ]
  },
  {
   "cell_type": "code",
   "execution_count": 12,
   "id": "b86548f7-c011-4cb8-97f0-7b5f3783559c",
   "metadata": {
    "scrolled": true
   },
   "outputs": [
    {
     "name": "stdout",
     "output_type": "stream",
     "text": [
      "     patient_id  age  smoking  air_pollution  shortness_of_breath  \\\n",
      "0           103   35        2              4                    9   \n",
      "1           104   37        7              7                    3   \n",
      "2           105   46        8              6                    4   \n",
      "3           106   35        2              4                    9   \n",
      "4           111   44        7              6                    2   \n",
      "..          ...  ...      ...            ...                  ...   \n",
      "360        1096   44        7              6                    2   \n",
      "361        1097   37        7              6                    5   \n",
      "362        1098   25        2              4                    9   \n",
      "363        1099   18        8              6                    4   \n",
      "364        1100   47        2              6                    9   \n",
      "\n",
      "     coughing_of_blood risk_level  \n",
      "0                    8       High  \n",
      "1                    8       High  \n",
      "2                    9       High  \n",
      "3                    8       High  \n",
      "4                    7       High  \n",
      "..                 ...        ...  \n",
      "360                  7       High  \n",
      "361                  7       High  \n",
      "362                  8       High  \n",
      "363                  9       High  \n",
      "364                  8       High  \n",
      "\n",
      "[365 rows x 7 columns]\n"
     ]
    }
   ],
   "source": [
    "#3.Predict High-Risk Patients Based on Lifestyle and Symptoms\n",
    "cursor.execute(\"\"\"\n",
    "SELECT \n",
    "    p.patient_id,\n",
    "    p.age,\n",
    "    lr.smoking,\n",
    "    lr.air_pollution,\n",
    "    s.shortness_of_breath,\n",
    "    s.coughing_of_blood,\n",
    "    d.risk_level\n",
    "FROM \n",
    "    Patients p\n",
    "JOIN \n",
    "    Lifestyle_Risks lr ON p.patient_id = lr.patient_id\n",
    "JOIN \n",
    "    Symptoms s ON p.patient_id = s.patient_id\n",
    "JOIN \n",
    "    Diagnosis d ON p.patient_id = d.patient_id\n",
    "WHERE \n",
    "    d.risk_level = 'high';\n",
    "\"\"\")\n",
    "results = cursor.fetchall()\n",
    "\n",
    "# Get the column names\n",
    "columns = [desc[0] for desc in cursor.description]\n",
    "\n",
    "# Create a Pandas DataFrame from the results\n",
    "df = pd.DataFrame(results, columns=columns)\n",
    "\n",
    "# Display the DataFrame\n",
    "print(df)"
   ]
  },
  {
   "cell_type": "code",
   "execution_count": 6,
   "id": "d415aaf3-2eea-46a7-933a-434802dc3ad2",
   "metadata": {},
   "outputs": [
    {
     "name": "stdout",
     "output_type": "stream",
     "text": [
      "   smoking  dust_allergy  frequent_cold  patient_count\n",
      "0        2             6              6             70\n",
      "1        2             4              6             51\n",
      "2        7             7              6             39\n",
      "3        3             7              7             30\n",
      "4        7             7              7             29\n",
      "5        6             6              7             10\n",
      "6        6             2              6             10\n"
     ]
    }
   ],
   "source": [
    "#4.explores the association between smoking, dust allergy, and frequent colds.\n",
    "\n",
    "import pandas as pd\n",
    "cursor.execute(\"\"\"SELECT \n",
    "    lr.smoking,\n",
    "    lr.dust_allergy,\n",
    "    mh.frequent_cold,\n",
    "    COUNT(*) AS patient_count\n",
    "FROM \n",
    "    Lifestyle_Risks lr\n",
    "JOIN \n",
    "    MedicalHistory mh ON lr.patient_id = mh.patient_id\n",
    "WHERE \n",
    "    mh.frequent_cold >= 6\n",
    "GROUP BY \n",
    "    lr.smoking, lr.dust_allergy, mh.frequent_cold\n",
    "ORDER BY \n",
    "    COUNT(*) DESC;\n",
    "\"\"\")\n",
    "results = cursor.fetchall()\n",
    "\n",
    "# Get the column names\n",
    "columns = [desc[0] for desc in cursor.description]\n",
    "\n",
    "# Create a Pandas DataFrame from the results\n",
    "df = pd.DataFrame(results, columns=columns)\n",
    "\n",
    "# Display the DataFrame\n",
    "print(df)"
   ]
  },
  {
   "cell_type": "code",
   "execution_count": 8,
   "id": "9851ba1b-1005-422a-972f-fdb0582d2113",
   "metadata": {},
   "outputs": [
    {
     "name": "stdout",
     "output_type": "stream",
     "text": [
      "  age_group avg_shortness_of_breath avg_clubbing_of_finger_nails  \\\n",
      "0     30-50                  4.2407                       3.7823   \n",
      "1  Above 50                  4.3507                       4.4925   \n",
      "2  Under 30                  4.1894                       3.9336   \n",
      "\n",
      "   patient_count  \n",
      "0            565  \n",
      "1            134  \n",
      "2            301  \n"
     ]
    }
   ],
   "source": [
    "#5.Symptom Severity and Age Group Analysis\n",
    "cursor.execute(\"\"\"\n",
    "SELECT \n",
    "    CASE \n",
    "        WHEN p.age < 30 THEN 'Under 30'\n",
    "        WHEN p.age BETWEEN 30 AND 50 THEN '30-50'\n",
    "        ELSE 'Above 50'\n",
    "    END AS age_group,\n",
    "    AVG(s.shortness_of_breath) AS avg_shortness_of_breath,\n",
    "    AVG(s.clubbing_of_finger_nails) AS avg_clubbing_of_finger_nails,\n",
    "    COUNT(*) AS patient_count\n",
    "FROM \n",
    "    Patients p\n",
    "JOIN \n",
    "    Symptoms s ON p.patient_id = s.patient_id\n",
    "GROUP BY \n",
    "    age_group\n",
    "ORDER BY \n",
    "    age_group;\n",
    "\"\"\")\n",
    "results = cursor.fetchall()\n",
    "\n",
    "# Get the column names\n",
    "columns = [desc[0] for desc in cursor.description]\n",
    "\n",
    "# Create a Pandas DataFrame from the results\n",
    "df = pd.DataFrame(results, columns=columns)\n",
    "\n",
    "# Display the DataFrame\n",
    "print(df)"
   ]
  },
  {
   "cell_type": "code",
   "execution_count": 11,
   "id": "4fe1689a-7869-4783-b688-4b9ddf8ba0cf",
   "metadata": {},
   "outputs": [
    {
     "name": "stdout",
     "output_type": "stream",
     "text": [
      "    chronic_lung_disease  age risk_level  patient_count\n",
      "0                      4   53       High             10\n",
      "1                      6   62       High             10\n",
      "2                      6   64       High             10\n",
      "3                      7   53       High              8\n",
      "4                      6   54       High              1\n",
      "5                      7   63       High              1\n",
      "6                      5   73     Medium             10\n",
      "7                      6   65     Medium             10\n",
      "8                      6   62     Medium             10\n",
      "9                      4   52     Medium             10\n",
      "10                     6   52     Medium             10\n",
      "11                     2   51     Medium              1\n",
      "12                     5   52        Low             10\n",
      "13                     4   62        Low             10\n",
      "14                     1   61        Low             10\n",
      "15                     3   55        Low             10\n",
      "16                     1   55        Low              1\n",
      "17                     2   53        Low              1\n",
      "18                     2   52        Low              1\n"
     ]
    }
   ],
   "source": [
    "#6.Effect of Age and Chronic Lung Disease on Risk Level\n",
    "cursor.execute(\"\"\"\n",
    "SELECT \n",
    "    mh.chronic_lung_disease,\n",
    "    p.age,\n",
    "    d.risk_level,\n",
    "    COUNT(*) AS patient_count\n",
    "FROM \n",
    "    MedicalHistory mh\n",
    "JOIN \n",
    "    Patients p ON mh.patient_id = p.patient_id\n",
    "JOIN \n",
    "    Diagnosis d ON mh.patient_id = d.patient_id\n",
    "WHERE \n",
    "    p.age > 50\n",
    "GROUP BY \n",
    "    mh.chronic_lung_disease, p.age, d.risk_level\n",
    "ORDER BY \n",
    "    d.risk_level DESC, patient_count DESC;\n",
    "\"\"\")\n",
    "results = cursor.fetchall()\n",
    "\n",
    "# Get the column names\n",
    "columns = [desc[0] for desc in cursor.description]\n",
    "\n",
    "# Create a Pandas DataFrame from the results\n",
    "df = pd.DataFrame(results, columns=columns)\n",
    "\n",
    "# Display the DataFrame\n",
    "print(df)"
   ]
  },
  {
   "cell_type": "code",
   "execution_count": null,
   "id": "01cbacac-9876-4cf0-8658-43c7398b1245",
   "metadata": {},
   "outputs": [],
   "source": [
    "#1.simple queries"
   ]
  },
  {
   "cell_type": "code",
   "execution_count": null,
   "id": "adff9c03-245f-400b-b9b2-20f474596929",
   "metadata": {},
   "outputs": [],
   "source": [
    "#2.simple queries"
   ]
  },
  {
   "cell_type": "code",
   "execution_count": null,
   "id": "2f21fcd3-df4e-4d74-86a4-784109085b48",
   "metadata": {},
   "outputs": [],
   "source": [
    "#3.simple queries"
   ]
  },
  {
   "cell_type": "markdown",
   "id": "a28aa8d8-c5ae-449f-aa55-25065a1d0470",
   "metadata": {},
   "source": ""
  },
  {
   "cell_type": "code",
   "execution_count": null,
   "id": "e4d84baa-cb68-4585-bba5-6c4d42e2d5a6",
   "metadata": {},
   "outputs": [],
   "source": []
  }
 ],
 "metadata": {
  "kernelspec": {
   "display_name": "Python 3 (ipykernel)",
   "language": "python",
   "name": "python3"
  },
  "language_info": {
   "codemirror_mode": {
    "name": "ipython",
    "version": 3
   },
   "file_extension": ".py",
   "mimetype": "text/x-python",
   "name": "python",
   "nbconvert_exporter": "python",
   "pygments_lexer": "ipython3",
   "version": "3.10.12"
  }
 },
 "nbformat": 4,
 "nbformat_minor": 5
}
