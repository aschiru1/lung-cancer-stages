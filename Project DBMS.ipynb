{
 "cells": [
  {
   "cell_type": "code",
   "execution_count": 15,
   "id": "5389e3a5-c619-44a6-b835-40aa07511853",
   "metadata": {},
   "outputs": [
    {
     "name": "stdout",
     "output_type": "stream",
     "text": [
      "Defaulting to user installation because normal site-packages is not writeable\n",
      "Requirement already satisfied: mysql-connector-python in ./.local/lib/python3.10/site-packages (9.0.0)\n",
      "\n",
      "\u001b[1m[\u001b[0m\u001b[34;49mnotice\u001b[0m\u001b[1;39;49m]\u001b[0m\u001b[39;49m A new release of pip is available: \u001b[0m\u001b[31;49m23.2.1\u001b[0m\u001b[39;49m -> \u001b[0m\u001b[32;49m24.3.1\u001b[0m\n",
      "\u001b[1m[\u001b[0m\u001b[34;49mnotice\u001b[0m\u001b[1;39;49m]\u001b[0m\u001b[39;49m To update, run: \u001b[0m\u001b[32;49mpython3 -m pip install --upgrade pip\u001b[0m\n"
     ]
    }
   ],
   "source": [
    "!pip install mysql-connector-python"
   ]
  },
  {
   "cell_type": "code",
   "execution_count": 16,
   "id": "045216f8-881a-412e-b607-7c622e702c33",
   "metadata": {},
   "outputs": [],
   "source": [
    "#import package, if it does not work, restart the console and re-run this command.\n",
    "import mysql.connector"
   ]
  },
  {
   "cell_type": "code",
   "execution_count": 17,
   "id": "71b06b63-514c-4209-8c53-035088ecd7ea",
   "metadata": {},
   "outputs": [],
   "source": [
    "#input the credentials\n",
    "connection = mysql.connector.connect(\n",
    "    host=\"127.0.0.1\",  # Hostname\n",
    "    user=\"aschiru\",   # Username\n",
    "    password=\"mollusc influenza bright\",  # Password\n",
    "    database=\" aschiru_db\"  # Database name\n",
    ")\n",
    "\n",
    "cursor = connection.cursor()"
   ]
  },
  {
   "cell_type": "code",
   "execution_count": 5,
   "id": "18eb0b87-98c1-4d66-9a06-b28e7efc9cab",
   "metadata": {},
   "outputs": [],
   "source": [
    "#create Patients table\n",
    "cursor.execute(\"\"\"\n",
    "CREATE TABLE IF NOT EXISTS Patients (\n",
    "    patient_id INT PRIMARY KEY,\n",
    "    age INT NOT NULL,\n",
    "    gender BOOLEAN NOT NULL\n",
    ")\n",
    "\"\"\")"
   ]
  },
  {
   "cell_type": "code",
   "execution_count": 10,
   "id": "c3da6dcf-7f79-4af4-87f2-facbc59b51fd",
   "metadata": {},
   "outputs": [],
   "source": [
    "#Create Medical History table\n",
    "cursor.execute(\"\"\"\n",
    "CREATE TABLE IF NOT EXISTS MedicalHistory (\n",
    "    history_id INT PRIMARY KEY,\n",
    "    patient_id INT,\n",
    "    chronic_lung_disease TINYINT CHECK (chronic_lung_disease BETWEEN 1 AND 7),\n",
    "    frequent_cold TINYINT CHECK (frequent_cold BETWEEN 1 AND 7),\n",
    "    dry_cough TINYINT CHECK (dry_cough BETWEEN 1 AND 7),\n",
    "    snoring TINYINT CHECK (snoring BETWEEN 1 AND 7),\n",
    "    FOREIGN KEY (patient_id) REFERENCES Patients(patient_id)\n",
    ")\n",
    "\"\"\")\n"
   ]
  },
  {
   "cell_type": "code",
   "execution_count": 18,
   "id": "65f54592-f5f4-46cb-9783-f0304c679e9c",
   "metadata": {},
   "outputs": [],
   "source": [
    "# Create Diagnosis table\n",
    "cursor.execute(\"\"\"\n",
    "CREATE TABLE IF NOT EXISTS Diagnosis (\n",
    "    diagnosis_id INT PRIMARY KEY,\n",
    "    patient_id INT,\n",
    "    risk_level ENUM('Low', 'Medium', 'High'),\n",
    "    FOREIGN KEY (patient_id) REFERENCES Patients(patient_id)\n",
    ")\n",
    "\"\"\")\n"
   ]
  },
  {
   "cell_type": "code",
   "execution_count": 19,
   "id": "3a84cbe9-badc-49d3-a77e-e743d45d0c9f",
   "metadata": {},
   "outputs": [],
   "source": [
    "#Create Lifestyle_risks table\n",
    "cursor.execute(\"\"\"\n",
    "CREATE TABLE IF NOT EXISTS Lifestyle_Risks (\n",
    "    risk_id INT PRIMARY KEY,\n",
    "    diagnosis_id INT,\n",
    "    patient_id INT,\n",
    "    air_pollution TINYINT CHECK (air_pollution BETWEEN 1 AND 8),\n",
    "    alcohol_use TINYINT CHECK (alcohol_use BETWEEN 1 AND 8),\n",
    "    dust_allergy TINYINT CHECK (dust_allergy BETWEEN 1 AND 8),\n",
    "    occupational_hazards TINYINT CHECK (occupational_hazards BETWEEN 1 AND 8),\n",
    "    genetic_risk TINYINT CHECK (genetic_risk BETWEEN 1 AND 7),\n",
    "    balanced_diet TINYINT CHECK (balanced_diet BETWEEN 1 AND 7),\n",
    "    obesity TINYINT CHECK (obesity BETWEEN 1 AND 7),\n",
    "    smoking TINYINT CHECK (smoking BETWEEN 1 AND 8),\n",
    "    passive_smoker TINYINT CHECK (passive_smoker BETWEEN 1 AND 8),\n",
    "    FOREIGN KEY (diagnosis_id) REFERENCES Diagnosis(diagnosis_id) ON DELETE CASCADE,\n",
    "    FOREIGN KEY (patient_id) REFERENCES Patients(patient_id) ON DELETE CASCADE\n",
    ")\n",
    "\"\"\")"
   ]
  },
  {
   "cell_type": "code",
   "execution_count": 20,
   "id": "8e590aed-8baa-4fd4-a606-ed7de24cef84",
   "metadata": {},
   "outputs": [],
   "source": [
    "#Create Symptoms Table\n",
    "cursor.execute(\"\"\"\n",
    "CREATE TABLE Symptoms (\n",
    "    symptom_id INT PRIMARY KEY,\n",
    "    patient_id INT,\n",
    "    chest_pain BOOLEAN,\n",
    "    coughing_of_blood BOOLEAN,\n",
    "    fatigue TINYINT CHECK (fatigue BETWEEN 1 AND 9),\n",
    "    weight_loss TINYINT CHECK (weight_loss BETWEEN 1 AND 8),\n",
    "    shortness_of_breath TINYINT CHECK (shortness_of_breath BETWEEN 1 AND 9),\n",
    "    wheezing TINYINT CHECK (wheezing BETWEEN 1 AND 8),\n",
    "    swallowing_difficulty TINYINT CHECK (swallowing_difficulty BETWEEN 1 AND 8),\n",
    "    clubbing_of_finger_nails TINYINT CHECK (clubbing_of_finger_nails BETWEEN 1 AND 9),\n",
    "    FOREIGN KEY (patient_id) REFERENCES Patients(patient_id)\n",
    ")\n",
    "\"\"\")"
   ]
  },
  {
   "cell_type": "code",
   "execution_count": 5,
   "id": "493bd7ef-e46c-47fe-9cff-f94a145118c5",
   "metadata": {},
   "outputs": [],
   "source": [
    "#populate data to Patients table, \n",
    "import csv\n",
    "# Open the Patients.csv file and populate data into the Patients table\n",
    "with open('Patients.csv', 'r') as f:\n",
    "    csv_reader = csv.reader(f)\n",
    "    next(csv_reader, None)  # Skip the header row if it exists\n",
    "\n",
    "    for row in csv_reader:\n",
    "        cursor.execute(\n",
    "            \"INSERT INTO Patients (patient_id, age, gender) VALUES (%s, %s, %s)\", \n",
    "            (row[0], row[1], row[2])\n",
    "        )\n",
    "\n",
    "# Commit changes and close the connection\n",
    "connection.commit()"
   ]
  },
  {
   "cell_type": "code",
   "execution_count": 7,
   "id": "f5c54dc3-d629-40ec-8a13-3f81eb95eb54",
   "metadata": {},
   "outputs": [],
   "source": [
    "# Open the MedicalHistory.csv file and populate data into the MedicalHistory table\n",
    "import csv\n",
    "with open('medical History.csv', 'r') as f:\n",
    "    csv_reader = csv.reader(f)\n",
    "    next(csv_reader, None)  # Skip the header row if it exists\n",
    "\n",
    "    for row in csv_reader:\n",
    "        cursor.execute(\n",
    "            \"INSERT INTO MedicalHistory (history_id,patient_id,chronic_lung_disease, frequent_cold, dry_cough, snoring) VALUES (%s, %s, %s,%s,%s,%s)\", \n",
    "            (row[0], row[1], row[2], row[3], row[4], row[5])\n",
    "        )\n",
    "\n",
    "# Commit changes and close the connection\n",
    "connection.commit()"
   ]
  },
  {
   "cell_type": "code",
   "execution_count": 8,
   "id": "706224cc-b5f3-4a02-a3ef-28894fd8bf1d",
   "metadata": {},
   "outputs": [],
   "source": [
    "# Open the diagnosis.csv file and populate data into the MedicalHistory table\n",
    "import csv\n",
    "with open('diagnosis.csv', 'r') as f:\n",
    "    csv_reader = csv.reader(f)\n",
    "    next(csv_reader, None)  # Skip the header row if it exists\n",
    "\n",
    "    for row in csv_reader:\n",
    "        cursor.execute(\n",
    "            \"INSERT INTO Diagnosis (diagnosis_id,patient_id,risk_level) VALUES (%s, %s, %s)\", \n",
    "            (row[0], row[1], row[2])\n",
    "        )\n",
    "\n",
    "# Commit changes and close the connection\n",
    "connection.commit()"
   ]
  },
  {
   "cell_type": "code",
   "execution_count": 11,
   "id": "257d8676-cd54-44f7-beae-c75b5ddaf0f5",
   "metadata": {},
   "outputs": [],
   "source": [
    "cursor.execute(\"\"\" \n",
    "ALTER TABLE Symptoms \n",
    "MODIFY COLUMN chest_pain TINYINT CHECK (chest_pain BETWEEN 1 AND 9),\n",
    "MODIFY COLUMN coughing_of_blood TINYINT CHECK (coughing_of_blood BETWEEN 1 AND 9)\n",
    "\"\"\")"
   ]
  },
  {
   "cell_type": "code",
   "execution_count": 14,
   "id": "c8f85130-0c3c-4edf-b887-1d363e3c2833",
   "metadata": {},
   "outputs": [],
   "source": [
    "#Open the Symptoms.csv file and populate data into the MedicalHistory table\n",
    "with open('Symptoms.csv', 'r') as f:\n",
    "    csv_reader = csv.reader(f)\n",
    "    next(csv_reader, None)  # Skip the header row if it exists\n",
    "\n",
    "    for row in csv_reader:\n",
    "        cursor.execute(\n",
    "            \"INSERT INTO Symptoms (symptom_id,patient_id,chest_pain,coughing_of_blood,fatigue,weight_loss,shortness_of_breath,wheezing,swallowing_difficulty,clubbing_of_finger_nails) VALUES (%s,%s,%s,%s,%s,%s,%s,%s,%s,%s)\", \n",
    "            (row[0], row[1], row[2], row[3], row[4], row[5],row[6],row[7],row[8],row[9])\n",
    "        )\n",
    "\n",
    "# Commit changes and close the connection\n",
    "connection.commit()"
   ]
  },
  {
   "cell_type": "code",
   "execution_count": null,
   "id": "a107f084-0779-4d64-9e01-ee954c90bed9",
   "metadata": {},
   "outputs": [],
   "source": [
    "#Open the Symptoms.csv file and populate data into the MedicalHistory table\n",
    "with open('Symptoms.csv', 'r') as f:\n",
    "    csv_reader = csv.reader(f)\n",
    "    next(csv_reader, None)  # Skip the header row if it exists\n",
    "\n",
    "    for row in csv_reader:\n",
    "        cursor.execute(\n",
    "            \"INSERT INTO Symptoms (symptom_id,patient_id,chest_pain,coughing_of_blood,fatigue,weight_loss,shortness_of_breath,wheezing,swallowing_difficulty,clubbing_of_finger_nails) VALUES (%s,%s,%s,%s,%s,%s,%s,%s,%s,%s)\", \n",
    "            (row[0], row[1], row[2], row[3], row[4], row[5],row[6],row[7],row[8],row[9])\n",
    "        )\n",
    "\n",
    "# Commit changes and close the connection\n",
    "connection.commit()"
   ]
  },
  {
   "cell_type": "code",
   "execution_count": 18,
   "id": "88158784-9289-46ef-a1dd-d40988c4d5ed",
   "metadata": {},
   "outputs": [],
   "source": [
    "#Open the Lifestyle risks.csv file and populate data into the MedicalHistory table\n",
    "with open('lifestyle risks.csv', 'r') as f:\n",
    "    csv_reader = csv.reader(f)\n",
    "    next(csv_reader, None)  # Skip the header row if it exists\n",
    "\n",
    "    for row in csv_reader:\n",
    "        cursor.execute(\n",
    "            \"INSERT INTO Lifestyle_Risks (risk_id,diagnosis_id,patient_id,air_pollution,alcohol_use,dust_allergy,occupational_hazards,genetic_risk,balanced_diet,obesity,smoking,passive_smoker) VALUES (%s,%s,%s,%s,%s,%s,%s,%s,%s,%s,%s,%s)\", \n",
    "            (row[0], row[1], row[2], row[3], row[4], row[5],row[6],row[7],row[8],row[9],row[10],row[11])\n",
    "        )\n",
    "\n",
    "# Commit changes and close the connection\n",
    "connection.commit()"
   ]
  },
  {
   "cell_type": "code",
   "execution_count": null,
   "id": "e8aa15e2-0f9a-4bdb-97e4-82ede0779223",
   "metadata": {},
   "outputs": [],
   "source": []
  }
 ],
 "metadata": {
  "kernelspec": {
   "display_name": "Python 3 (ipykernel)",
   "language": "python",
   "name": "python3"
  },
  "language_info": {
   "codemirror_mode": {
    "name": "ipython",
    "version": 3
   },
   "file_extension": ".py",
   "mimetype": "text/x-python",
   "name": "python",
   "nbconvert_exporter": "python",
   "pygments_lexer": "ipython3",
   "version": "3.10.12"
  }
 },
 "nbformat": 4,
 "nbformat_minor": 5
}
